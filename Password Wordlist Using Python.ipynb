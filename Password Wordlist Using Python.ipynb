{
 "cells": [
  {
   "cell_type": "markdown",
   "id": "c62b1a51",
   "metadata": {},
   "source": [
    "# Password Wordlist Using Python For Brute Force Attack"
   ]
  },
  {
   "cell_type": "markdown",
   "id": "9df7135c",
   "metadata": {},
   "source": [
    "## Introduction"
   ]
  },
  {
   "cell_type": "markdown",
   "id": "ea8f30e4",
   "metadata": {},
   "source": [
    "In this project we are creating a password cracker which will be using the Brute Force technique to crack the password of anything for example PDF, Wi-Fi etc."
   ]
  },
  {
   "cell_type": "markdown",
   "id": "b70b8164",
   "metadata": {},
   "source": [
    "## Wordlist"
   ]
  },
  {
   "cell_type": "markdown",
   "id": "4f789b23",
   "metadata": {},
   "source": [
    "A Wordlist is a collection of passwords that we are going to use in a Brute Force attack."
   ]
  },
  {
   "cell_type": "markdown",
   "id": "bef4d7c0",
   "metadata": {},
   "source": [
    "## Brute Force Technique"
   ]
  },
  {
   "cell_type": "markdown",
   "id": "880b4c87",
   "metadata": {},
   "source": [
    "Brute Force technique is a technique in which we check all the possible solutions for a problem against the actual solution."
   ]
  },
  {
   "cell_type": "markdown",
   "id": "191ba80e",
   "metadata": {},
   "source": [
    "It goes through all possible choices until a solution is found."
   ]
  },
  {
   "cell_type": "markdown",
   "id": "5188ae5b",
   "metadata": {},
   "source": [
    "#### To make the paswords we need all the alphabets, special characters, digits because our passwords are the mixutre of all these letters."
   ]
  },
  {
   "cell_type": "code",
   "execution_count": null,
   "id": "db6e5d9b",
   "metadata": {},
   "outputs": [],
   "source": [
    "from string import*  \n",
    "from itertools import product #-->password are the combination of letters so for doing the combinations or product of letters we need to use this function."
   ]
  },
  {
   "cell_type": "code",
   "execution_count": null,
   "id": "180f717d",
   "metadata": {},
   "outputs": [],
   "source": [
    "value = ascii_letters + digits + punctuation  #-->We need to get all the letters, digits and special characters.\n",
    "value"
   ]
  },
  {
   "cell_type": "markdown",
   "id": "2d6a3540",
   "metadata": {},
   "source": [
    "We need to define the range of the password, as we are making simple passwords then we have to take passwords of 4 letters."
   ]
  },
  {
   "cell_type": "code",
   "execution_count": null,
   "id": "a043afa1",
   "metadata": {},
   "outputs": [],
   "source": [
    "for i in range(1,5):\n",
    "    for j in product(value,repeat = i):\n",
    "        word = \"\".join(j)\n",
    "        p = open(\"password.txt\",\"a\")\n",
    "        p.write(word)\n",
    "        p.write(\"\\n\")"
   ]
  }
 ],
 "metadata": {
  "kernelspec": {
   "display_name": "Python 3 (ipykernel)",
   "language": "python",
   "name": "python3"
  },
  "language_info": {
   "codemirror_mode": {
    "name": "ipython",
    "version": 3
   },
   "file_extension": ".py",
   "mimetype": "text/x-python",
   "name": "python",
   "nbconvert_exporter": "python",
   "pygments_lexer": "ipython3",
   "version": "3.9.7"
  }
 },
 "nbformat": 4,
 "nbformat_minor": 5
}
